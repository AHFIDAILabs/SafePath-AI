{
 "cells": [
  {
   "cell_type": "code",
   "execution_count": 86,
   "id": "310142f9",
   "metadata": {},
   "outputs": [
    {
     "name": "stdout",
     "output_type": "stream",
     "text": [
      "Current notebook directory: c:\\08_AHFID\\gbv-predictive-tool\\notebooks\n",
      "Parent directory: c:\\08_AHFID\\gbv-predictive-tool\n",
      "Data directory: c:\\08_AHFID\\gbv-predictive-tool\\data\n"
     ]
    }
   ],
   "source": [
    "# This script finds the path to the 'data' folder in the parent directory of the current notebook.\n",
    "import os\n",
    "\n",
    "# Get the directory of the current notebook\n",
    "notebook_directory = os.getcwd()\n",
    "print(f\"Current notebook directory: {notebook_directory}\")\n",
    "\n",
    "# Go up one level to the main project directory\n",
    "parent_directory = os.path.dirname(notebook_directory)\n",
    "print(f\"Parent directory: {parent_directory}\")\n",
    "\n",
    "# Specify the path to the 'data' folder from the parent directory\n",
    "data_folder_path = os.path.join(parent_directory, 'data')\n",
    "print(f\"Data directory: {data_folder_path}\")"
   ]
  },
  {
   "cell_type": "code",
   "execution_count": 87,
   "id": "b1a98cb2",
   "metadata": {},
   "outputs": [
    {
     "name": "stdout",
     "output_type": "stream",
     "text": [
      "<class 'pandas.core.frame.DataFrame'>\n",
      "RangeIndex: 44360 entries, 0 to 44359\n",
      "Data columns (total 78 columns):\n",
      " #   Column                                                       Non-Null Count  Dtype  \n",
      "---  ------                                                       --------------  -----  \n",
      " 0   Time Stamp Date                                              44350 non-null  object \n",
      " 1   Time Stamp Time                                              44350 non-null  object \n",
      " 2   Type_of_Organisation                                         44350 non-null  object \n",
      " 3   Location of Organisation State                               44350 non-null  object \n",
      " 4   Organisation LGA                                             38944 non-null  object \n",
      " 5   Contact Channel                                              41821 non-null  object \n",
      " 6   Contact Channel Other                                        2515 non-null   object \n",
      " 7   Was the Violence Fatal                                       44350 non-null  object \n",
      " 8   Who Reported the Incident                                    41384 non-null  object \n",
      " 9   WHO REPORTED THE INCIDENT_OTHER                              2958 non-null   object \n",
      " 10  Sex of survivor                                              44350 non-null  object \n",
      " 11  Age of survivor                                              44350 non-null  float64\n",
      " 12  MARITAL STATUS                                               33965 non-null  object \n",
      " 13  EMPLOYMENT STATUS OF PARENT/GUARDIAN                         14817 non-null  object \n",
      " 14  EMPLOYMENT STATUS OF PARENT/GUARDIAN_OTHERS                  273 non-null    object \n",
      " 15  EMPLOYMENT STATUS OF SURVIVOR/VICTIM                         35433 non-null  object \n",
      " 16  EMPLOYMENT STATUS OF SURVIVOR/VICTIM_OTHERS                  869 non-null    object \n",
      " 17  VULNERABLE POPULATION_Person living with disability          44350 non-null  object \n",
      " 18  VULNERABLE POPULATION_PLHIV                                  44350 non-null  object \n",
      " 19  VULNERABLE POPULATION_Female sex worker                      44350 non-null  object \n",
      " 20  VULNERABLE POPULATION_IDP                                    44350 non-null  object \n",
      " 21  VULNERABLE POPULATION_DRUG USER                              44350 non-null  object \n",
      " 22  VULNERABLE POPULATION_WIDOW                                  44350 non-null  object \n",
      " 23  VULNERABLE POPULATION_OUT OF SCHOOL CHILD                    44350 non-null  object \n",
      " 24  VULNERABLE POPULATION_MINOR                                  44350 non-null  object \n",
      " 25  VULNERABLE POPULATION_House maids/domestic staff             44350 non-null  object \n",
      " 26  VULNERABLE POPULATION_CHILD APPRENTICE                       44350 non-null  object \n",
      " 27  VULNERABLE POPULATION_ORPHANS                                44350 non-null  object \n",
      " 28  VULNERABLE POPULATION_NOT APPLICABLE                         44350 non-null  object \n",
      " 29  VULNERABLE POPULATION_OTHER                                  1309 non-null   object \n",
      " 30  EDUCATIONAL STATUS                                           44327 non-null  object \n",
      " 31  EDUCATIONAL STATUS_OTHER                                     1255 non-null   object \n",
      " 32  DOES THE SURVIVOR/VICTIM LIVE ALONE                          44350 non-null  object \n",
      " 33  WHO DOES THE SURVIVOR/VICTIM LIVE WITH                       28888 non-null  object \n",
      " 34  WHO DOES THE SURVIVOR/VICTIM LIVE WITH_OTHER                 787 non-null    object \n",
      " 35  ESTIMATED AVERAGE MONTHLY INCOME                             0 non-null      float64\n",
      " 36  DATE OF INCIDENT                                             44350 non-null  object \n",
      " 37  DATE REPORTED                                                44350 non-null  object \n",
      " 38  LOCATION OF VIOLENCE (STATE)                                 44350 non-null  object \n",
      " 39  LOCATION OF VIOLENCE (L.G.A)                                 44350 non-null  object \n",
      " 40  LOCATION OF VIOLENCE (WARD)                                  43774 non-null  object \n",
      " 41  PLACE OF INCIDENT                                            28405 non-null  object \n",
      " 42  PLACE OF INCIDENT_OTHER                                      15914 non-null  object \n",
      " 43  TIME OF THE DAY THAT INCIDENT TOOK PLACE                     44350 non-null  object \n",
      " 44  TYPE OF VIOLENCE_SEXUAL ASSAULT                              44350 non-null  object \n",
      " 45  TYPE OF VIOLENCE_PHYSICAL ASSAULT                            44350 non-null  object \n",
      " 46  TYPE OF VIOLENCE_FINANCIAL/ECONOMIC                          44350 non-null  object \n",
      " 47  TYPE OF VIOLENCE_ONLINE/CYBER                                44350 non-null  object \n",
      " 48  TYPE OF VIOLENCE_RAPE                                        44350 non-null  object \n",
      " 49  TYPE OF VIOLENCE_DEFILEMENT                                  44350 non-null  object \n",
      " 50  TYPE OF VIOLENCE_FORCED MARRIAGE                             44350 non-null  object \n",
      " 51  TYPE OF VIOLENCE_DENIAL OF RESOURCES                         44350 non-null  object \n",
      " 52  TYPE OF VIOLENCE_PSYCHOLOGICAL/EMOTIONAL ABUSE               44350 non-null  object \n",
      " 53  TYPE OF VIOLENCE_FEMALE GENITAL MUTILATION                   44350 non-null  object \n",
      " 54  TYPE OF VIOLENCE_VIOLATION OF PROPERTY & INHERITANCE RIGHTS  44350 non-null  object \n",
      " 55  TYPE OF VIOLENCE_CHILD ABUSE AND NEGLECT                     44350 non-null  object \n",
      " 56  TYPE OF VIOLENCE_OTHER                                       4161 non-null   object \n",
      " 57  SEX OF PERPETRATOR_1                                         41300 non-null  object \n",
      " 58  AGE OF PERPETRATOR_1                                         44350 non-null  float64\n",
      " 59  SURVIVOR/VICTIM'S RELATIONSHIP WITH PERPETRATOR_1            41299 non-null  object \n",
      " 60  SEX OF PERPETRATOR_2                                         1981 non-null   object \n",
      " 61  AGE OF PERPETRATOR_2                                         44350 non-null  float64\n",
      " 62  SURVIVOR/VICTIM'S RELATIONSHIP WITH PERPETRATOR_2            1981 non-null   object \n",
      " 63  SEX OF PERPETRATOR_3                                         681 non-null    object \n",
      " 64  AGE OF PERPETRATOR_3                                         44350 non-null  float64\n",
      " 65  SURVIVOR/VICTIM'S RELATIONSHIP WITH PERPETRATOR_3            681 non-null    object \n",
      " 66  SEX OF PERPETRATOR_OTHER                                     120 non-null    object \n",
      " 67  AGE OF PERPETRATOR_OTHER                                     120 non-null    object \n",
      " 68  SURVIVOR/VICTIM'S RELATIONSHIP WITH PERPETRATOR_OTHER        67 non-null     object \n",
      " 69  DOES THE SURVIVOR WANT ACCESS TO JUSTICE                     44350 non-null  object \n",
      " 70  OUTCOME OF PROSECUTION                                       3952 non-null   object \n",
      " 71  DATE JUSTICE WAS RECEIVED                                    2305 non-null   object \n",
      " 72  HAS THE CASE BEEN CLOSED                                     44350 non-null  object \n",
      " 73  WHO CLOSED THE CASE?                                         2468 non-null   object \n",
      " 74  DATE CASE WAS CLOSED                                         5973 non-null   object \n",
      " 75  APPROVED BY ORG. SUPERVISOR_DATE                             31943 non-null  object \n",
      " 76  APPROVED BY LGA SUPERVISOR_DATE                              44350 non-null  object \n",
      " 77  APPROVED BY STATE SUPERVISOR_DATE                            32221 non-null  object \n",
      "dtypes: float64(5), object(73)\n",
      "memory usage: 26.4+ MB\n"
     ]
    }
   ],
   "source": [
    "import pandas as pd\n",
    "file_path = os.path.join(data_folder_path, 'NGBV Dashboard dataset.xlsx')\n",
    "df = pd.read_excel(file_path, header=2)\n",
    "df.info()"
   ]
  },
  {
   "cell_type": "code",
   "execution_count": 105,
   "id": "261ddee7",
   "metadata": {},
   "outputs": [],
   "source": [
    "pd.set_option('display.max_columns', None)  # Show all columns in the DataFrame"
   ]
  },
  {
   "cell_type": "code",
   "execution_count": 106,
   "id": "ad2a9a3b",
   "metadata": {},
   "outputs": [
    {
     "name": "stdout",
     "output_type": "stream",
     "text": [
      "The original shape of the DataFrame: (44360, 32)\n",
      "The original columns of the DataFrame: ['Type_of_Organisation', 'Was the Violence Fatal', 'Sex of survivor', 'Age of survivor', 'MARITAL STATUS', 'DOES THE SURVIVOR/VICTIM LIVE ALONE', 'ESTIMATED AVERAGE MONTHLY INCOME', 'DATE OF INCIDENT', 'DATE REPORTED', 'LOCATION OF VIOLENCE (STATE)', 'LOCATION OF VIOLENCE (L.G.A)', 'LOCATION OF VIOLENCE (WARD)', 'TIME OF THE DAY THAT INCIDENT TOOK PLACE', 'DOES THE SURVIVOR WANT ACCESS TO JUSTICE', 'OUTCOME OF PROSECUTION', 'DATE JUSTICE WAS RECEIVED', 'HAS THE CASE BEEN CLOSED', 'WHO CLOSED THE CASE?', 'DATE CASE WAS CLOSED', 'APPROVED BY ORG. SUPERVISOR_DATE', 'APPROVED BY LGA SUPERVISOR_DATE', 'APPROVED BY STATE SUPERVISOR_DATE', 'Location of Organisation', 'WHO REPORTED THE INCIDENT', 'PARENT/GUARDIAN EMPLOYMENT STATUS', 'SURVIVOR/VICTIM EMPLOYMENT STATUS', 'WHO SURVIVOR/VICTIM LIVE WITH', 'SEX OF PERPETRATOR', 'AGE OF PERPETRATOR', 'RELATIONSHIP WITH PERPETRATOR', 'VULNERABLE POPULATION', 'TYPE OF VIOLENCE']\n"
     ]
    }
   ],
   "source": [
    "print(\"The original shape of the DataFrame:\", df.shape)\n",
    "print(\"The original columns of the DataFrame:\", df.columns.tolist())"
   ]
  },
  {
   "cell_type": "markdown",
   "id": "104be92c",
   "metadata": {},
   "source": [
    "### **Merge several related columns into a single, consolidated column:**\n",
    "\n",
    "**General Strategy:**\n",
    "*   Identify Groups: Group the columns that need to be merged.\n",
    "*   Define New Column Name: Decide on the name for the consolidated column.\n",
    "*   Combine Values: For each row, iterate through the columns in a group\n",
    "*   Create New Column: Assign the combined values to the new consolidated column.\n",
    "*   Drop Old Columns: Remove the original, now redundant, columns."
   ]
  },
  {
   "cell_type": "code",
   "execution_count": 107,
   "id": "156ab1df",
   "metadata": {},
   "outputs": [],
   "source": [
    "def combine_columns(df, new_col_name, cols_to_combine, separator=','):\n",
    "    \"\"\"\n",
    "    Combine multiple columns into a new column with a separator, ignoring NaN.\n",
    "\n",
    "    Args:\n",
    "        df: The DataFrame to modify\n",
    "        new_col_name: The new name of the combined column\n",
    "        cols_to_combine (list): The list of the column names to combine\n",
    "        separator: The string to use to join the multiple non-NaN values\n",
    "\n",
    "    Returns:\n",
    "        The modified DataFrame with the new column and old ones dropped\n",
    "    \"\"\"\n",
    "    missing_cols = [col for col in cols_to_combine if col not in df.columns]\n",
    "    if missing_cols:\n",
    "        raise ValueError(f\"The following columns do not exist in the DataFrame: {missing_cols}\")\n",
    "\n",
    "    cols_to_combine = [col for col in cols_to_combine if col in df.columns]\n",
    "    if not cols_to_combine:\n",
    "        raise ValueError(\"No valid columns to combine\")\n",
    "\n",
    "    df[new_col_name] = df[cols_to_combine].apply(\n",
    "        lambda row: separator.join(row.dropna().astype(str)),\n",
    "        axis=1\n",
    "    )\n",
    "\n",
    "    df[new_col_name] = df[new_col_name].replace('', pd.NA)\n",
    "\n",
    "    df = df.drop(columns=cols_to_combine)\n",
    "\n",
    "    return df"
   ]
  },
  {
   "cell_type": "code",
   "execution_count": 108,
   "id": "4d487a5b",
   "metadata": {},
   "outputs": [
    {
     "ename": "ValueError",
     "evalue": "The following columns do not exist in the DataFrame: ['Location of Organisation State', 'Organisation LGA']",
     "output_type": "error",
     "traceback": [
      "\u001b[31m---------------------------------------------------------------------------\u001b[39m",
      "\u001b[31mValueError\u001b[39m                                Traceback (most recent call last)",
      "\u001b[36mCell\u001b[39m\u001b[36m \u001b[39m\u001b[32mIn[108]\u001b[39m\u001b[32m, line 2\u001b[39m\n\u001b[32m      1\u001b[39m \u001b[38;5;66;03m# 1. Location of Organisation\u001b[39;00m\n\u001b[32m----> \u001b[39m\u001b[32m2\u001b[39m df = \u001b[43mcombine_columns\u001b[49m\u001b[43m(\u001b[49m\u001b[43mdf\u001b[49m\u001b[43m,\u001b[49m\u001b[43m \u001b[49m\u001b[33;43m'\u001b[39;49m\u001b[33;43mLocation of Organisation\u001b[39;49m\u001b[33;43m'\u001b[39;49m\u001b[43m,\u001b[49m\u001b[43m \u001b[49m\u001b[43m[\u001b[49m\u001b[33;43m'\u001b[39;49m\u001b[33;43mLocation of Organisation State\u001b[39;49m\u001b[33;43m'\u001b[39;49m\u001b[43m,\u001b[49m\u001b[43m \u001b[49m\u001b[33;43m'\u001b[39;49m\u001b[33;43mOrganisation LGA\u001b[39;49m\u001b[33;43m'\u001b[39;49m\u001b[43m]\u001b[49m\u001b[43m)\u001b[49m\n\u001b[32m      4\u001b[39m \u001b[38;5;66;03m# 2. Who reported the incident\u001b[39;00m\n\u001b[32m      5\u001b[39m df = combine_columns(df, \u001b[33m'\u001b[39m\u001b[33mWHO REPORTED THE INCIDENT\u001b[39m\u001b[33m'\u001b[39m, [\u001b[33m'\u001b[39m\u001b[33mWho Reported the Incident\u001b[39m\u001b[33m'\u001b[39m, \u001b[33m'\u001b[39m\u001b[33mWHO REPORTED THE INCIDENT_OTHER\u001b[39m\u001b[33m'\u001b[39m])\n",
      "\u001b[36mCell\u001b[39m\u001b[36m \u001b[39m\u001b[32mIn[107]\u001b[39m\u001b[32m, line 16\u001b[39m, in \u001b[36mcombine_columns\u001b[39m\u001b[34m(df, new_col_name, cols_to_combine, separator)\u001b[39m\n\u001b[32m     14\u001b[39m missing_cols = [col \u001b[38;5;28;01mfor\u001b[39;00m col \u001b[38;5;129;01min\u001b[39;00m cols_to_combine \u001b[38;5;28;01mif\u001b[39;00m col \u001b[38;5;129;01mnot\u001b[39;00m \u001b[38;5;129;01min\u001b[39;00m df.columns]\n\u001b[32m     15\u001b[39m \u001b[38;5;28;01mif\u001b[39;00m missing_cols:\n\u001b[32m---> \u001b[39m\u001b[32m16\u001b[39m     \u001b[38;5;28;01mraise\u001b[39;00m \u001b[38;5;167;01mValueError\u001b[39;00m(\u001b[33mf\u001b[39m\u001b[33m\"\u001b[39m\u001b[33mThe following columns do not exist in the DataFrame: \u001b[39m\u001b[38;5;132;01m{\u001b[39;00mmissing_cols\u001b[38;5;132;01m}\u001b[39;00m\u001b[33m\"\u001b[39m)\n\u001b[32m     18\u001b[39m cols_to_combine = [col \u001b[38;5;28;01mfor\u001b[39;00m col \u001b[38;5;129;01min\u001b[39;00m cols_to_combine \u001b[38;5;28;01mif\u001b[39;00m col \u001b[38;5;129;01min\u001b[39;00m df.columns]\n\u001b[32m     19\u001b[39m \u001b[38;5;28;01mif\u001b[39;00m \u001b[38;5;129;01mnot\u001b[39;00m cols_to_combine:\n",
      "\u001b[31mValueError\u001b[39m: The following columns do not exist in the DataFrame: ['Location of Organisation State', 'Organisation LGA']"
     ]
    }
   ],
   "source": [
    "# 1. Location of Organisation\n",
    "df = combine_columns(df, 'Location of Organisation', ['Location of Organisation State', 'Organisation LGA'])\n",
    "\n",
    "# 2. Who reported the incident\n",
    "df = combine_columns(df, 'WHO REPORTED THE INCIDENT', ['Who Reported the Incident', 'WHO REPORTED THE INCIDENT_OTHER'])\n",
    "\n",
    "# 3. Contact Channel\n",
    "df = combine_columns(df, 'Contact Channel', ['Contact Channel', 'Contact Channel Other'])\n",
    "\n",
    "# 4. Parent/Guardian Employment Status\n",
    "df = combine_columns(df, 'PARENT/GUARDIAN EMPLOYMENT STATUS', ['EMPLOYMENT STATUS OF PARENT/GUARDIAN', 'EMPLOYMENT STATUS OF PARENT/GUARDIAN_OTHERS'])\n",
    "\n",
    "# 5. Survivor/Victim Employment Status\n",
    "df = combine_columns(df, 'SURVIVOR/VICTIM EMPLOYMENT STATUS', ['EMPLOYMENT STATUS OF SURVIVOR/VICTIM', 'EMPLOYMENT STATUS OF SURVIVOR/VICTIM_OTHERS'])\n",
    "\n",
    "# 6. Educational Status\n",
    "df = combine_columns(df, 'EDUCATIONAL STATUS', ['EDUCATIONAL STATUS', 'EDUCATIONAL STATUS_OTHER'])\n",
    "\n",
    "# 7. Who does the survivor/victim live with\n",
    "df = combine_columns(df, 'WHO SURVIVOR/VICTIM LIVE WITH', ['WHO DOES THE SURVIVOR/VICTIM LIVE WITH', 'WHO DOES THE SURVIVOR/VICTIM LIVE WITH_OTHER'])\n",
    "\n",
    "# 8. Perpetrator's Sex\n",
    "df = combine_columns(df, 'SEX OF PERPETRATOR', ['SEX OF PERPETRATOR_1', 'SEX OF PERPETRATOR_2', 'SEX OF PERPETRATOR_3', 'SEX OF PERPETRATOR_OTHER'])\n",
    "\n",
    "# 9. Perpetrator's Age\n",
    "df = combine_columns(df, 'AGE OF PERPETRATOR', ['AGE OF PERPETRATOR_1', 'AGE OF PERPETRATOR_2', 'AGE OF PERPETRATOR_3', 'AGE OF PERPETRATOR_OTHER'])\n",
    "\n",
    "# 10 Survivor/Victim's Relationship with Perpetrator\n",
    "df = combine_columns(\n",
    "    df,\n",
    "    \"RELATIONSHIP WITH PERPETRATOR\",\n",
    "    [\n",
    "        \"SURVIVOR/VICTIM'S RELATIONSHIP WITH PERPETRATOR_1\",\n",
    "        \"SURVIVOR/VICTIM'S RELATIONSHIP WITH PERPETRATOR_2\",\n",
    "        \"SURVIVOR/VICTIM'S RELATIONSHIP WITH PERPETRATOR_3\",\n",
    "        \"SURVIVOR/VICTIM'S RELATIONSHIP WITH PERPETRATOR_OTHER\"\n",
    "    ]\n",
    ")\n",
    "\n",
    "# # 11. Location of Violence\n",
    "# df = combine_columns(df, 'LOCATION OF VIOLENCE', ['LOCATION OF VIOLENCE (STATE)', 'LOCATION OF VIOLENCE (L.G.A)', 'LOCATION OF VIOLENCE (WARD)'])\n",
    "\n",
    "# 12. Place of Incident\n",
    "df = combine_columns(df, 'PLACE OF INCIDENT', ['PLACE OF INCIDENT', 'PLACE OF INCIDENT_OTHER'])\n",
    "\n",
    "\n",
    "print(\"\\nProcessed DataFrame shape:\", df.shape)\n",
    "print(\"\\nNew DataFrame Columns:\")\n",
    "print(df.columns.tolist())"
   ]
  },
  {
   "cell_type": "markdown",
   "id": "47b5af15",
   "metadata": {},
   "source": [
    "### **Collapse multiple binary columns into a single column \"VULNERABLE POPULATION\" and \"TYPE OF VIOLENCE\"**\n",
    "**What should be done:**\n",
    "* Loop through the binary columns.\n",
    "* For each row, collect labels of columns marked “Yes”.\n",
    "* Store them as a comma-separated list in a new column.\n"
   ]
  },
  {
   "cell_type": "code",
   "execution_count": 91,
   "id": "e0dce01b",
   "metadata": {},
   "outputs": [
    {
     "name": "stdout",
     "output_type": "stream",
     "text": [
      "\n",
      "Processed DataFrame shape: (44360, 46)\n",
      "\n",
      "New DataFrame Columns:\n",
      "['Time Stamp Date', 'Time Stamp Time', 'Type_of_Organisation', 'Was the Violence Fatal', 'Sex of survivor', 'Age of survivor', 'MARITAL STATUS', 'DOES THE SURVIVOR/VICTIM LIVE ALONE', 'ESTIMATED AVERAGE MONTHLY INCOME', 'DATE OF INCIDENT', 'DATE REPORTED', 'LOCATION OF VIOLENCE (STATE)', 'LOCATION OF VIOLENCE (L.G.A)', 'LOCATION OF VIOLENCE (WARD)', 'TIME OF THE DAY THAT INCIDENT TOOK PLACE', 'TYPE OF VIOLENCE_SEXUAL ASSAULT', 'TYPE OF VIOLENCE_PHYSICAL ASSAULT', 'TYPE OF VIOLENCE_FINANCIAL/ECONOMIC', 'TYPE OF VIOLENCE_ONLINE/CYBER', 'TYPE OF VIOLENCE_RAPE', 'TYPE OF VIOLENCE_DEFILEMENT', 'TYPE OF VIOLENCE_FORCED MARRIAGE', 'TYPE OF VIOLENCE_DENIAL OF RESOURCES', 'TYPE OF VIOLENCE_PSYCHOLOGICAL/EMOTIONAL ABUSE', 'TYPE OF VIOLENCE_FEMALE GENITAL MUTILATION', 'TYPE OF VIOLENCE_VIOLATION OF PROPERTY & INHERITANCE RIGHTS', 'TYPE OF VIOLENCE_CHILD ABUSE AND NEGLECT', 'TYPE OF VIOLENCE_OTHER', 'DOES THE SURVIVOR WANT ACCESS TO JUSTICE', 'OUTCOME OF PROSECUTION', 'DATE JUSTICE WAS RECEIVED', 'HAS THE CASE BEEN CLOSED', 'WHO CLOSED THE CASE?', 'DATE CASE WAS CLOSED', 'APPROVED BY ORG. SUPERVISOR_DATE', 'APPROVED BY LGA SUPERVISOR_DATE', 'APPROVED BY STATE SUPERVISOR_DATE', 'Location of Organisation', 'WHO REPORTED THE INCIDENT', 'PARENT/GUARDIAN EMPLOYMENT STATUS', 'SURVIVOR/VICTIM EMPLOYMENT STATUS', 'WHO SURVIVOR/VICTIM LIVE WITH', 'SEX OF PERPETRATOR', 'AGE OF PERPETRATOR', 'RELATIONSHIP WITH PERPETRATOR', 'VULNERABLE POPULATION']\n"
     ]
    }
   ],
   "source": [
    "#@title Collapse multiple \"VULNERABLE POPULATION_\" columns into a single \"VULNERABLE POPULATION\"\n",
    "def combine_vulnerable_population_columns(df):\n",
    "    # Step 1: Select relevant columns\n",
    "    vuln_cols = [col for col in df.columns if col.startswith(\"VULNERABLE POPULATION_\")]\n",
    "\n",
    "    # Step 2: Strip the prefix to get clean category names\n",
    "    category_map = {col: col.replace(\"VULNERABLE POPULATION_\", \"\").strip() for col in vuln_cols}\n",
    "\n",
    "    # Step 3: Apply row-wise logic\n",
    "    def get_vuln_categories(row):\n",
    "        categories = [category_map[col] for col in vuln_cols if str(row[col]).strip().upper() == \"YES\"]\n",
    "        return \", \".join(categories) if categories else pd.NA\n",
    "\n",
    "    # Step 4: Create the new column\n",
    "    df[\"VULNERABLE POPULATION\"] = df.apply(get_vuln_categories, axis=1)\n",
    "\n",
    "    # Optional: Drop the original binary columns\n",
    "    df = df.drop(columns=vuln_cols)\n",
    "\n",
    "    return df\n",
    "\n",
    "df = combine_vulnerable_population_columns(df)\n",
    "\n",
    "print(\"\\nProcessed DataFrame shape:\", df.shape)\n",
    "print(\"\\nNew DataFrame Columns:\")\n",
    "print(df.columns.tolist())"
   ]
  },
  {
   "cell_type": "code",
   "execution_count": 92,
   "id": "b8b35412",
   "metadata": {},
   "outputs": [
    {
     "name": "stdout",
     "output_type": "stream",
     "text": [
      "\n",
      "Processed DataFrame shape: (44360, 34)\n",
      "\n",
      "New DataFrame Columns:\n",
      "['Time Stamp Date', 'Time Stamp Time', 'Type_of_Organisation', 'Was the Violence Fatal', 'Sex of survivor', 'Age of survivor', 'MARITAL STATUS', 'DOES THE SURVIVOR/VICTIM LIVE ALONE', 'ESTIMATED AVERAGE MONTHLY INCOME', 'DATE OF INCIDENT', 'DATE REPORTED', 'LOCATION OF VIOLENCE (STATE)', 'LOCATION OF VIOLENCE (L.G.A)', 'LOCATION OF VIOLENCE (WARD)', 'TIME OF THE DAY THAT INCIDENT TOOK PLACE', 'DOES THE SURVIVOR WANT ACCESS TO JUSTICE', 'OUTCOME OF PROSECUTION', 'DATE JUSTICE WAS RECEIVED', 'HAS THE CASE BEEN CLOSED', 'WHO CLOSED THE CASE?', 'DATE CASE WAS CLOSED', 'APPROVED BY ORG. SUPERVISOR_DATE', 'APPROVED BY LGA SUPERVISOR_DATE', 'APPROVED BY STATE SUPERVISOR_DATE', 'Location of Organisation', 'WHO REPORTED THE INCIDENT', 'PARENT/GUARDIAN EMPLOYMENT STATUS', 'SURVIVOR/VICTIM EMPLOYMENT STATUS', 'WHO SURVIVOR/VICTIM LIVE WITH', 'SEX OF PERPETRATOR', 'AGE OF PERPETRATOR', 'RELATIONSHIP WITH PERPETRATOR', 'VULNERABLE POPULATION', 'TYPE OF VIOLENCE']\n"
     ]
    }
   ],
   "source": [
    "#@title Collapse multiple \"TYPE OF VIOLENCE_\" columns into a single \"TYPE OF VIOLENCE\"\n",
    "def combine_violence_types(df):\n",
    "    # Step 1: Get all relevant columns\n",
    "    violence_cols = [col for col in df.columns if col.startswith(\"TYPE OF VIOLENCE_\")]\n",
    "\n",
    "    # Step 2: Map column names to clean labels\n",
    "    type_map = {col: col.replace(\"TYPE OF VIOLENCE_\", \"\").strip() for col in violence_cols}\n",
    "\n",
    "    # Step 3: Apply row-wise logic\n",
    "    def get_violence_types(row):\n",
    "        types = [type_map[col] for col in violence_cols if str(row[col]).strip().upper() == \"YES\"]\n",
    "        return \", \".join(types) if types else pd.NA\n",
    "\n",
    "    # Step 4: Add new column\n",
    "    df[\"TYPE OF VIOLENCE\"] = df.apply(get_violence_types, axis=1)\n",
    "\n",
    "    # Step 5: Drop old flag columns\n",
    "    df = df.drop(columns=violence_cols)\n",
    "\n",
    "    return df\n",
    "\n",
    "df = combine_violence_types(df)\n",
    "\n",
    "print(\"\\nProcessed DataFrame shape:\", df.shape)\n",
    "print(\"\\nNew DataFrame Columns:\")\n",
    "print(df.columns.tolist())"
   ]
  },
  {
   "cell_type": "markdown",
   "id": "64113f68",
   "metadata": {},
   "source": [
    "### **Drop 'Time Stamp Date' and 'Time Stamp Time'**\n",
    "\n",
    "* 'Time Stamp Date' and 'Time Stamp Time' were the date and time the data were inputed. It is irrelevant to the incident data"
   ]
  },
  {
   "cell_type": "code",
   "execution_count": 93,
   "id": "9125c644",
   "metadata": {},
   "outputs": [
    {
     "data": {
      "text/plain": [
       "['Type_of_Organisation',\n",
       " 'Was the Violence Fatal',\n",
       " 'Sex of survivor',\n",
       " 'Age of survivor',\n",
       " 'MARITAL STATUS',\n",
       " 'DOES THE SURVIVOR/VICTIM LIVE ALONE',\n",
       " 'ESTIMATED AVERAGE MONTHLY INCOME',\n",
       " 'DATE OF INCIDENT',\n",
       " 'DATE REPORTED',\n",
       " 'LOCATION OF VIOLENCE (STATE)',\n",
       " 'LOCATION OF VIOLENCE (L.G.A)',\n",
       " 'LOCATION OF VIOLENCE (WARD)',\n",
       " 'TIME OF THE DAY THAT INCIDENT TOOK PLACE',\n",
       " 'DOES THE SURVIVOR WANT ACCESS TO JUSTICE',\n",
       " 'OUTCOME OF PROSECUTION',\n",
       " 'DATE JUSTICE WAS RECEIVED',\n",
       " 'HAS THE CASE BEEN CLOSED',\n",
       " 'WHO CLOSED THE CASE?',\n",
       " 'DATE CASE WAS CLOSED',\n",
       " 'APPROVED BY ORG. SUPERVISOR_DATE',\n",
       " 'APPROVED BY LGA SUPERVISOR_DATE',\n",
       " 'APPROVED BY STATE SUPERVISOR_DATE',\n",
       " 'Location of Organisation',\n",
       " 'WHO REPORTED THE INCIDENT',\n",
       " 'PARENT/GUARDIAN EMPLOYMENT STATUS',\n",
       " 'SURVIVOR/VICTIM EMPLOYMENT STATUS',\n",
       " 'WHO SURVIVOR/VICTIM LIVE WITH',\n",
       " 'SEX OF PERPETRATOR',\n",
       " 'AGE OF PERPETRATOR',\n",
       " 'RELATIONSHIP WITH PERPETRATOR',\n",
       " 'VULNERABLE POPULATION',\n",
       " 'TYPE OF VIOLENCE']"
      ]
     },
     "execution_count": 93,
     "metadata": {},
     "output_type": "execute_result"
    }
   ],
   "source": [
    "#@title Drop 'Time Stamp Date' and 'Time Stamp Time'\n",
    "df = df.drop(columns=['Time Stamp Date', 'Time Stamp Time'])\n",
    "df.columns.tolist()"
   ]
  },
  {
   "cell_type": "code",
   "execution_count": 109,
   "id": "3162c326",
   "metadata": {},
   "outputs": [
    {
     "data": {
      "text/plain": [
       "TYPE OF VIOLENCE\n",
       "SEXUAL ASSAULT, RAPE                                                                                                223\n",
       "DENIAL OF RESOURCES, CHILD ABUSE AND NEGLECT                                                                        202\n",
       "PHYSICAL ASSAULT, PSYCHOLOGICAL/EMOTIONAL ABUSE, CHILD ABUSE AND NEGLECT                                            185\n",
       "PHYSICAL ASSAULT, CHILD ABUSE AND NEGLECT                                                                           167\n",
       "DENIAL OF RESOURCES, PSYCHOLOGICAL/EMOTIONAL ABUSE, CHILD ABUSE AND NEGLECT                                         159\n",
       "SEXUAL ASSAULT, PHYSICAL ASSAULT                                                                                    153\n",
       "SEXUAL ASSAULT, PHYSICAL ASSAULT, PSYCHOLOGICAL/EMOTIONAL ABUSE                                                     149\n",
       "SEXUAL ASSAULT, PSYCHOLOGICAL/EMOTIONAL ABUSE                                                                       130\n",
       "PHYSICAL ASSAULT, DEFILEMENT                                                                                        118\n",
       "PHYSICAL ASSAULT, FINANCIAL/ECONOMIC                                                                                111\n",
       "RAPE, DEFILEMENT                                                                                                    107\n",
       "PHYSICAL ASSAULT, FINANCIAL/ECONOMIC, DENIAL OF RESOURCES, PSYCHOLOGICAL/EMOTIONAL ABUSE                            107\n",
       "SEXUAL ASSAULT, PHYSICAL ASSAULT, RAPE                                                                              105\n",
       "SEXUAL ASSAULT, RAPE, PSYCHOLOGICAL/EMOTIONAL ABUSE                                                                 104\n",
       "SEXUAL ASSAULT, PHYSICAL ASSAULT, RAPE, PSYCHOLOGICAL/EMOTIONAL ABUSE                                                97\n",
       "FINANCIAL/ECONOMIC, DENIAL OF RESOURCES, PSYCHOLOGICAL/EMOTIONAL ABUSE                                               91\n",
       "SEXUAL ASSAULT, DEFILEMENT                                                                                           85\n",
       "FORCED MARRIAGE                                                                                                      84\n",
       "SEXUAL ASSAULT, RAPE, DEFILEMENT                                                                                     63\n",
       "PHYSICAL ASSAULT, DENIAL OF RESOURCES, PSYCHOLOGICAL/EMOTIONAL ABUSE, VIOLATION OF PROPERTY & INHERITANCE RIGHTS     55\n",
       "Name: count, dtype: int64"
      ]
     },
     "execution_count": 109,
     "metadata": {},
     "output_type": "execute_result"
    }
   ],
   "source": [
    "df['TYPE OF VIOLENCE'].value_counts(dropna=False)[20:40]"
   ]
  },
  {
   "cell_type": "code",
   "execution_count": null,
   "id": "57a429a8",
   "metadata": {},
   "outputs": [],
   "source": []
  }
 ],
 "metadata": {
  "kernelspec": {
   "display_name": "gbv-venv",
   "language": "python",
   "name": "python3"
  },
  "language_info": {
   "codemirror_mode": {
    "name": "ipython",
    "version": 3
   },
   "file_extension": ".py",
   "mimetype": "text/x-python",
   "name": "python",
   "nbconvert_exporter": "python",
   "pygments_lexer": "ipython3",
   "version": "3.12.2"
  }
 },
 "nbformat": 4,
 "nbformat_minor": 5
}
